{
  "metadata": {
    "language_info": {
      "codemirror_mode": {
        "name": "python",
        "version": 3
      },
      "file_extension": ".py",
      "mimetype": "text/x-python",
      "name": "python",
      "nbconvert_exporter": "python",
      "pygments_lexer": "ipython3",
      "version": "3.8"
    },
    "kernelspec": {
      "name": "python",
      "display_name": "Python (Pyodide)",
      "language": "python"
    }
  },
  "nbformat_minor": 4,
  "nbformat": 4,
  "cells": [
    {
      "cell_type": "code",
      "source": "import matplotlib.pyplot as plt\nfrom sklearn import datasets\nfrom sklearn.cluster import KMeans\nimport sklearn.metrics as sm\nimport pandas as pd\nimport numpy as np\n\niris = datasets.load_iris()\n\nX = pd.DataFrame(iris.data)\nX.columns = ['Sepal_Length','Sepal_Width','Petal_Length','Petal_Width']\n\ny = pd.DataFrame(iris.target)\ny.columns = ['Targets']\n\nmodel = KMeans(n_clusters=3)\nmodel.fit(X)\n\n\nplt.figure(figsize=(14,7))\n\ncolormap = np.array(['red', 'lime', 'black'])\n\n# Plot the Original Classifications\nplt.subplot(1, 2, 1)\nplt.scatter(X.Petal_Length, X.Petal_Width, c=colormap[y.Targets], s=40)\nplt.title('Real Classification')\nplt.xlabel('Petal Length')\nplt.ylabel('Petal Width')\n\n\n# Plot the Models Classifications\nplt.subplot(1, 2, 2)\nplt.scatter(X.Petal_Length, X.Petal_Width, c=colormap[model.labels_], s=40)\nplt.title('K Mean Classification')\nplt.xlabel('Petal Length')\nplt.ylabel('Petal Width')\nprint('The accuracy score of K-Mean: ',sm.accuracy_score(y, model.labels_))\nprint('The Confusion matrixof K-Mean: ',sm.confusion_matrix(y, model.labels_))\n\n\nfrom sklearn import preprocessing\nscaler = preprocessing.StandardScaler()\nscaler.fit(X)\nxsa = scaler.transform(X)\nxs = pd.DataFrame(xsa, columns = X.columns)\n#xs.sample(5)\n\nfrom sklearn.mixture import GaussianMixture\ngmm = GaussianMixture(n_components=3)\ngmm.fit(xs)\n\ny_gmm = gmm.predict(xs)\n#y_cluster_gmm\n\nplt.subplot(2, 2, 3)\nplt.scatter(X.Petal_Length, X.Petal_Width, c=colormap[y_gmm], s=40)\nplt.title('GMM Classification')\nplt.xlabel('Petal Length')\nplt.ylabel('Petal Width')\n\nprint('The accuracy score of EM: ',sm.accuracy_score(y, y_gmm))\nprint('The Confusion matrix of EM: ',sm.confusion_matrix(y, y_gmm))",
      "metadata": {},
      "execution_count": null,
      "outputs": []
    }
  ]
}