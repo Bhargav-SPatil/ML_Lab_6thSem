{
  "metadata": {
    "language_info": {
      "codemirror_mode": {
        "name": "python",
        "version": 3
      },
      "file_extension": ".py",
      "mimetype": "text/x-python",
      "name": "python",
      "nbconvert_exporter": "python",
      "pygments_lexer": "ipython3",
      "version": "3.8"
    },
    "kernelspec": {
      "name": "python",
      "display_name": "Python (Pyodide)",
      "language": "python"
    }
  },
  "nbformat_minor": 4,
  "nbformat": 4,
  "cells": [
    {
      "cell_type": "code",
      "source": "import numpy as np\nimport matplotlib.pyplot as plt\nfrom matplotlib import rcParams\nrcParams['figure.figsize'] = (14, 7)\nrcParams['axes.spines.top'] = False\nrcParams['axes.spines.right'] = False",
      "metadata": {},
      "execution_count": null,
      "outputs": []
    },
    {
      "cell_type": "code",
      "source": "class SimpleLinearRegression:\n    '''\n    A class which implements simple linear regression model.\n    '''\n    def __init__(self):\n        self.b0 = None\n        self.b1 = None\n    \n    def fit(self, X, y):\n        '''\n        Used to calculate slope and intercept coefficients.\n        \n        :param X: array, single feature\n        :param y: array, true values\n        :return: None\n        '''\n        numerator = np.sum((X - np.mean(X)) * (y - np.mean(y)))\n        denominator = np.sum((X - np.mean(X)) ** 2)\n        self.b1 = numerator / denominator\n        self.b0 = np.mean(y) - self.b1 * np.mean(X)\n        \n    def predict(self, X):\n        '''\n        Makes predictions using the simple line equation.\n        \n        :param X: array, single feature\n        :return: None\n        '''\n        if not self.b0 or not self.b1:\n            raise Exception('Please call `SimpleLinearRegression.fit(X, y)` before making predictions.')\n        return self.b0 + self.b1 * X",
      "metadata": {},
      "execution_count": null,
      "outputs": []
    },
    {
      "cell_type": "code",
      "source": "X = np.arange(start=1, stop=301)\ny = np.random.normal(loc=X, scale=20)\n\nplt.scatter(X, y, s=200, c='#087E8B', alpha=0.65)\nplt.title('Source dataset', size=20)\nplt.xlabel('X', size=14)\nplt.ylabel('Y', size=14)\nplt.show()",
      "metadata": {},
      "execution_count": null,
      "outputs": []
    },
    {
      "cell_type": "code",
      "source": "from sklearn.model_selection import train_test_split\n\nX_train, X_test, y_train, y_test = train_test_split(X, y, test_size=0.2, random_state=42)\n     ",
      "metadata": {},
      "execution_count": null,
      "outputs": []
    },
    {
      "cell_type": "code",
      "source": "model = SimpleLinearRegression()\nmodel.fit(X_train, y_train)\npreds = model.predict(X_test)",
      "metadata": {},
      "execution_count": null,
      "outputs": []
    },
    {
      "cell_type": "code",
      "source": "model.b0, model.b1",
      "metadata": {},
      "execution_count": null,
      "outputs": []
    },
    {
      "cell_type": "code",
      "source": "preds",
      "metadata": {},
      "execution_count": null,
      "outputs": []
    },
    {
      "cell_type": "code",
      "source": "y_test",
      "metadata": {},
      "execution_count": null,
      "outputs": []
    },
    {
      "cell_type": "code",
      "source": "from sklearn.metrics import mean_squared_error\n\nrmse = lambda y, y_pred: np.sqrt(mean_squared_error(y, y_pred))\nrmse(y_test, preds)",
      "metadata": {},
      "execution_count": null,
      "outputs": []
    },
    {
      "cell_type": "code",
      "source": "model_all = SimpleLinearRegression()\nmodel_all.fit(X, y)\npreds_all = model_all.predict(X)\n\nplt.scatter(X, y, s=200, c='#087E8B', alpha=0.65, label='Source data')\nplt.plot(X, preds_all, color='#000000', lw=3, label=f'Best fit line > B0 = {model_all.b0:.2f}, B1 = {model_all.b1:.2f}')\nplt.title('Best fit line', size=20)\nplt.xlabel('X', size=14)\nplt.ylabel('Y', size=14)\nplt.legend()\nplt.show()\n     ",
      "metadata": {},
      "execution_count": null,
      "outputs": []
    },
    {
      "cell_type": "code",
      "source": "from sklearn.linear_model import LinearRegression\n\nsk_model = LinearRegression()\nsk_model.fit(np.array(X_train).reshape(-1, 1), y_train)\nsk_preds = sk_model.predict(np.array(X_test).reshape(-1, 1))\n\nsk_model.intercept_, sk_model.coef_",
      "metadata": {},
      "execution_count": null,
      "outputs": []
    },
    {
      "cell_type": "code",
      "source": "rmse(y_test, sk_preds)",
      "metadata": {},
      "execution_count": null,
      "outputs": []
    }
  ]
}