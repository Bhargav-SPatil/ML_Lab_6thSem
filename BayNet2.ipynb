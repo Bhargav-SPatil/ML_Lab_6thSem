{
  "metadata": {
    "language_info": {
      "codemirror_mode": {
        "name": "python",
        "version": 3
      },
      "file_extension": ".py",
      "mimetype": "text/x-python",
      "name": "python",
      "nbconvert_exporter": "python",
      "pygments_lexer": "ipython3",
      "version": "3.8"
    },
    "kernelspec": {
      "name": "python",
      "display_name": "Python (Pyodide)",
      "language": "python"
    }
  },
  "nbformat_minor": 4,
  "nbformat": 4,
  "cells": [
    {
      "cell_type": "code",
      "source": "import numpy as np\nimport pandas as pd\nimport csv \nfrom pgmpy.estimators import MaximumLikelihoodEstimator\nfrom pgmpy.models import BayesianModel\nfrom pgmpy.inference import VariableElimination",
      "metadata": {},
      "execution_count": null,
      "outputs": []
    },
    {
      "cell_type": "code",
      "source": "heartDisease = pd.read_csv('/content/drive/MyDrive/heart.csv')\nheartDisease = heartDisease.replace('?',np.nan)",
      "metadata": {},
      "execution_count": null,
      "outputs": []
    },
    {
      "cell_type": "code",
      "source": "print('Sample instances from the dataset are given below')\nprint(heartDisease.head())\n     ",
      "metadata": {},
      "execution_count": null,
      "outputs": []
    },
    {
      "cell_type": "code",
      "source": "print('\\n Attributes and datatypes')\nprint(heartDisease.dtypes)\n     ",
      "metadata": {},
      "execution_count": null,
      "outputs": []
    },
    {
      "cell_type": "code",
      "source": "model = BayesianModel([('age','heartdisease'),('sex','heartdisease'),('exang','heartdisease'),('cp','heartdisease'),('heartdisease', 'exp')",
      "metadata": {},
      "execution_count": null,
      "outputs": []
    },
    {
      "cell_type": "code",
      "source": "print('\\n Learning CPD using Maximum likelihood estimators')\nmodel.fit(heartDisease,estimator=MaximumLikelihoodEstimator)",
      "metadata": {},
      "execution_count": null,
      "outputs": []
    },
    {
      "cell_type": "code",
      "source": "print('\\n Inferencing with Bayesian Network:')\nHeartDiseasetest_infer = VariableElimination(model)",
      "metadata": {},
      "execution_count": null,
      "outputs": []
    },
    {
      "cell_type": "code",
      "source": "print('\\n 1.Probability of HeartDisease given evidence= restecg :1')\nq1=HeartDiseasetest_infer.query(variables=['heartdisease'],evidence={'restecg':1})\nprint(q1)\n     ",
      "metadata": {},
      "execution_count": null,
      "outputs": []
    },
    {
      "cell_type": "code",
      "source": "print('\\n 2.Probability of HeartDisease given evidence= cp:2 ')\nq2=HeartDiseasetest_infer.query(variables=['heartdisease'],evidence={'cp':2})\nprint(q2)",
      "metadata": {},
      "execution_count": null,
      "outputs": []
    }
  ]
}