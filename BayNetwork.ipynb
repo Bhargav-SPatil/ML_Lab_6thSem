{
  "metadata": {
    "language_info": {
      "codemirror_mode": {
        "name": "python",
        "version": 3
      },
      "file_extension": ".py",
      "mimetype": "text/x-python",
      "name": "python",
      "nbconvert_exporter": "python",
      "pygments_lexer": "ipython3",
      "version": "3.8"
    },
    "kernelspec": {
      "name": "python",
      "display_name": "Python (Pyodide)",
      "language": "python"
    }
  },
  "nbformat_minor": 4,
  "nbformat": 4,
  "cells": [
    {
      "cell_type": "code",
      "source": "import pandas as pd\nfrom sklearn.model_selection import train_test_split\nfrom sklearn.naive_bayes import GaussianNB\nfrom sklearn import metrics\n\ndf = pd.read_csv(\"rings.csv\")\nfeature_col_names = ['Length','Diameter','Height','Whole weight','Shucked weight','Viscera weight','Shell weight']\npredicted_class_names = ['Rings']\n\nX = df[feature_col_names].values \ny = df[predicted_class_names].values\n\nprint(df.head)\nxtrain,xtest,ytrain,ytest=train_test_split(X,y,test_size=0.40)\n\nprint ('\\n the total number of Training Data :',ytrain.shape)\nprint ('\\n the total number of Test Data :',ytest.shape)\n\nclf = GaussianNB().fit(xtrain,ytrain.ravel())\npredicted = clf.predict(xtest)\npredictTestData= clf.predict([[0.455,0.365,0.095,0.514,0.2245,0.101,0.15]])\n\nprint('\\n Confusion matrix')\nprint(metrics.confusion_matrix(ytest,predicted))\n\nprint('\\n Accuracy of the classifier is',metrics.accuracy_score(ytest,predicted))\n'''\nprint('\\n The value of Precision', metrics.precision_score(ytest,predicted))\nprint('\\n The value of Recall', metrics.recall_score(ytest,predicted))\n'''\nprint(\"Predicted Value for individual Test Data:\", predictTestData)\n     ",
      "metadata": {},
      "execution_count": null,
      "outputs": []
    }
  ]
}