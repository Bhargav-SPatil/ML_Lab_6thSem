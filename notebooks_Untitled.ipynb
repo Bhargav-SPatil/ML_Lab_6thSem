{
  "metadata": {
    "language_info": {
      "codemirror_mode": {
        "name": "python",
        "version": 3
      },
      "file_extension": ".py",
      "mimetype": "text/x-python",
      "name": "python",
      "nbconvert_exporter": "python",
      "pygments_lexer": "ipython3",
      "version": "3.8"
    },
    "kernelspec": {
      "name": "python",
      "display_name": "Python (Pyodide)",
      "language": "python"
    }
  },
  "nbformat_minor": 4,
  "nbformat": 4,
  "cells": [
    {
      "cell_type": "code",
      "source": "import numpy as np\nimport pandas as pd\n",
      "metadata": {
        "trusted": true
      },
      "execution_count": 7,
      "outputs": []
    },
    {
      "cell_type": "code",
      "source": "data = pd.read_csv(\"finddata.csv\")\nprint(data,\"\\n\")",
      "metadata": {
        "trusted": true
      },
      "execution_count": 9,
      "outputs": [
        {
          "name": "stdout",
          "text": "      Time Weather Temperature Company Humidity    Wind Goes\n0  Morning   Sunny        Warm     Yes     Mild  Strong  Yes\n1  Evening   Rainy        Cold      No     Mild  Normal   No\n2  Morning   Sunny    Moderate     Yes   Normal  Normal  Yes\n3  Evening   Sunny        Cold     Yes     High  Strong  Yes \n\n",
          "output_type": "stream"
        }
      ]
    },
    {
      "cell_type": "code",
      "source": "d = np.array(data)[:,:-1]\nprint(\"\\n The attributes are: \",d)\ntarget = np.array(data)[:,-1]\nprint(\"\\n The target is: \",target)",
      "metadata": {
        "trusted": true
      },
      "execution_count": 10,
      "outputs": [
        {
          "name": "stdout",
          "text": "\n The attributes are:  [['Morning' 'Sunny' 'Warm' 'Yes' 'Mild' 'Strong']\n ['Evening' 'Rainy' 'Cold' 'No' 'Mild' 'Normal']\n ['Morning' 'Sunny' 'Moderate' 'Yes' 'Normal' 'Normal']\n ['Evening' 'Sunny' 'Cold' 'Yes' 'High' 'Strong']]\n\n The target is:  ['Yes' 'No' 'Yes' 'Yes']\n",
          "output_type": "stream"
        }
      ]
    },
    {
      "cell_type": "code",
      "source": "def findS(c,t):\n for i, val in enumerate(t):\n  if val == \"Yes\":\n   specific_hypothesis = c[i].copy()\n   break\n \n for i, val in enumerate(c):\n     if t[i] == \"Yes\":\n         for x in range(len(specific_hypothesis)):\n             if val[x] != specific_hypothesis[x]:\n                 specific_hypothesis[x] = '?'\n             else:\n                 pass\n \n return specific_hypothesis\n\nprint(\"\\n The final hypothesis is:\",findS(d,target))",
      "metadata": {
        "trusted": true
      },
      "execution_count": 11,
      "outputs": [
        {
          "name": "stdout",
          "text": "\n The final hypothesis is: ['?' 'Sunny' '?' 'Yes' '?' '?']\n",
          "output_type": "stream"
        }
      ]
    }
  ]
}