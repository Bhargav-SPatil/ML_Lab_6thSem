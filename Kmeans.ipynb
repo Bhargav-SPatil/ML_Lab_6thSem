{
  "metadata": {
    "language_info": {
      "codemirror_mode": {
        "name": "python",
        "version": 3
      },
      "file_extension": ".py",
      "mimetype": "text/x-python",
      "name": "python",
      "nbconvert_exporter": "python",
      "pygments_lexer": "ipython3",
      "version": "3.8"
    },
    "kernelspec": {
      "name": "python",
      "display_name": "Python (Pyodide)",
      "language": "python"
    }
  },
  "nbformat_minor": 4,
  "nbformat": 4,
  "cells": [
    {
      "cell_type": "code",
      "source": "import csv\na = []\nwith open('pgm1_enjoysport.csv', 'r') as csvfile:\n    next(csvfile)\n    for row in csv.reader(csvfile):\n        a.append(row)\n    print(a)\n\nprint(\"\\nThe total number of training instances are : \",len(a))",
      "metadata": {},
      "execution_count": null,
      "outputs": []
    },
    {
      "cell_type": "code",
      "source": "num_attribute = len(a[0])-1\nprint(\"\\nThe initial hypothesis is : \")\nhypothesis = ['0']*num_attribute\nprint(hypothesis)",
      "metadata": {},
      "execution_count": null,
      "outputs": []
    },
    {
      "cell_type": "code",
      "source": "for i in range(0, len(a)):\n    if a[i][num_attribute] == 'yes':\n        print (\"\\nInstance \", i+1, \"is\", a[i], \" and is Positive Instance\")\n        for j in range(0, num_attribute):\n            if hypothesis[j] == '0' or hypothesis[j] == a[i][j]:\n                hypothesis[j] = a[i][j]\n            else:\n                hypothesis[j] = '?'\n        print(\"The hypothesis for the training instance\", i+1, \" is: \" , hypothesis, \"\\n\")\n\n    if a[i][num_attribute] == 'no':\n        print (\"\\nInstance \", i+1, \"is\", a[i], \" and is Negative Instance Hence Ignored\")\n        print(\"The hypothesis for the training instance\", i+1, \" is: \" , hypothesis, \"\\n\")\n\nprint(\"\\nThe Maximally specific hypothesis for the training instance is \", hypothesis)",
      "metadata": {},
      "execution_count": null,
      "outputs": []
    }
  ]
}