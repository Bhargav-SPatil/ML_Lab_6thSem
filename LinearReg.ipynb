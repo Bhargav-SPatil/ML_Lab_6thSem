{
  "metadata": {
    "language_info": {
      "codemirror_mode": {
        "name": "python",
        "version": 3
      },
      "file_extension": ".py",
      "mimetype": "text/x-python",
      "name": "python",
      "nbconvert_exporter": "python",
      "pygments_lexer": "ipython3",
      "version": "3.8"
    },
    "kernelspec": {
      "name": "python",
      "display_name": "Python (Pyodide)",
      "language": "python"
    }
  },
  "nbformat_minor": 4,
  "nbformat": 4,
  "cells": [
    {
      "cell_type": "code",
      "source": "import numpy as np\nimport matplotlib.pyplot as plt\nimport pandas as pd\n\n# Importing the dataset\n#dataset = pd.read_csv('181105_missing-data.csv')\ndataset = pd.read_csv('salary_data.csv')\nX = dataset.iloc[:, :-1].values #get a copy of dataset exclude last column\ny = dataset.iloc[:, 1].values #get array of dataset in column 1st\n\n# Splitting the dataset into the Training set and Test set\nfrom sklearn.model_selection import train_test_split \nX_train, X_test, y_train, y_test = train_test_split(X, y, test_size=1/3, random_state=0)\n\n\n\n# Fitting Simple Linear Regression to the Training set\nfrom sklearn.linear_model import LinearRegression\nregressor = LinearRegression()\nregressor.fit(X_train, y_train)\n\n# Predicting the Test set results\ny_pred = regressor.predict(X_test)\n\n# Visualizing the Training set results\nviz_train = plt\nviz_train.scatter(X_train, y_train, color='red')\nviz_train.plot(X_train, regressor.predict(X_train), color='blue')\nviz_train.title('Salary VS Experience (Training set)')\nviz_train.xlabel('Year of Experience')\nviz_train.ylabel('Salary')\nviz_train.show()\n\n# Visualizing the Test set results\nviz_test = plt\nviz_test.scatter(X_test, y_test, color='red')\nviz_test.plot(X_train, regressor.predict(X_train), color='blue')\nviz_test.title('Salary VS Experience (Test set)')\nviz_test.xlabel('Year of Experience')\nviz_test.ylabel('Salary')\nviz_test.show()\n",
      "metadata": {},
      "execution_count": null,
      "outputs": []
    }
  ]
}